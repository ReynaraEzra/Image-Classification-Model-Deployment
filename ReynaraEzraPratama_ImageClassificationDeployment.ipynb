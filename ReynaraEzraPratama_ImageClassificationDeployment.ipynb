{
  "nbformat": 4,
  "nbformat_minor": 0,
  "metadata": {
    "colab": {
      "name": "ReynaraEzraPratama_ImageClassificationDeployment.ipynb",
      "provenance": [],
      "authorship_tag": "ABX9TyOJmX9/A1JIaGt+vSOMxalP",
      "include_colab_link": true
    },
    "kernelspec": {
      "name": "python3",
      "display_name": "Python 3"
    },
    "language_info": {
      "name": "python"
    },
    "accelerator": "GPU"
  },
  "cells": [
    {
      "cell_type": "markdown",
      "metadata": {
        "id": "view-in-github",
        "colab_type": "text"
      },
      "source": [
        "<a href=\"https://colab.research.google.com/github/ReynaraEzra/Image-Classification-Model-Deployment/blob/main/ReynaraEzraPratama_ImageClassificationDeployment.ipynb\" target=\"_parent\"><img src=\"https://colab.research.google.com/assets/colab-badge.svg\" alt=\"Open In Colab\"/></a>"
      ]
    },
    {
      "cell_type": "markdown",
      "metadata": {
        "id": "EHW5LmuCG42l"
      },
      "source": [
        "# **Image Classification Model Deployment**\n",
        "## **Reynara Ezra Pratama**"
      ]
    },
    {
      "cell_type": "code",
      "metadata": {
        "colab": {
          "base_uri": "https://localhost:8080/"
        },
        "id": "TI1BejFfGydm",
        "outputId": "a6cc616b-b0a8-4a96-8a80-51c2f4e16110"
      },
      "source": [
        "import tensorflow as tf\n",
        "print(tf.__version__)"
      ],
      "execution_count": 1,
      "outputs": [
        {
          "output_type": "stream",
          "text": [
            "2.5.0\n"
          ],
          "name": "stdout"
        }
      ]
    },
    {
      "cell_type": "code",
      "metadata": {
        "colab": {
          "base_uri": "https://localhost:8080/"
        },
        "id": "DH2cUKzeHDp8",
        "outputId": "8ccb2bbb-b0ba-4b51-af10-13887da8f4fd"
      },
      "source": [
        "!pip install ipython-autotime\n",
        "%load_ext autotime"
      ],
      "execution_count": 2,
      "outputs": [
        {
          "output_type": "stream",
          "text": [
            "Collecting ipython-autotime\n",
            "  Downloading https://files.pythonhosted.org/packages/b4/c9/b413a24f759641bc27ef98c144b590023c8038dfb8a3f09e713e9dff12c1/ipython_autotime-0.3.1-py2.py3-none-any.whl\n",
            "Requirement already satisfied: ipython in /usr/local/lib/python3.7/dist-packages (from ipython-autotime) (5.5.0)\n",
            "Requirement already satisfied: decorator in /usr/local/lib/python3.7/dist-packages (from ipython->ipython-autotime) (4.4.2)\n",
            "Requirement already satisfied: traitlets>=4.2 in /usr/local/lib/python3.7/dist-packages (from ipython->ipython-autotime) (5.0.5)\n",
            "Requirement already satisfied: pickleshare in /usr/local/lib/python3.7/dist-packages (from ipython->ipython-autotime) (0.7.5)\n",
            "Requirement already satisfied: pygments in /usr/local/lib/python3.7/dist-packages (from ipython->ipython-autotime) (2.6.1)\n",
            "Requirement already satisfied: setuptools>=18.5 in /usr/local/lib/python3.7/dist-packages (from ipython->ipython-autotime) (57.0.0)\n",
            "Requirement already satisfied: simplegeneric>0.8 in /usr/local/lib/python3.7/dist-packages (from ipython->ipython-autotime) (0.8.1)\n",
            "Requirement already satisfied: pexpect; sys_platform != \"win32\" in /usr/local/lib/python3.7/dist-packages (from ipython->ipython-autotime) (4.8.0)\n",
            "Requirement already satisfied: prompt-toolkit<2.0.0,>=1.0.4 in /usr/local/lib/python3.7/dist-packages (from ipython->ipython-autotime) (1.0.18)\n",
            "Requirement already satisfied: ipython-genutils in /usr/local/lib/python3.7/dist-packages (from traitlets>=4.2->ipython->ipython-autotime) (0.2.0)\n",
            "Requirement already satisfied: ptyprocess>=0.5 in /usr/local/lib/python3.7/dist-packages (from pexpect; sys_platform != \"win32\"->ipython->ipython-autotime) (0.7.0)\n",
            "Requirement already satisfied: wcwidth in /usr/local/lib/python3.7/dist-packages (from prompt-toolkit<2.0.0,>=1.0.4->ipython->ipython-autotime) (0.2.5)\n",
            "Requirement already satisfied: six>=1.9.0 in /usr/local/lib/python3.7/dist-packages (from prompt-toolkit<2.0.0,>=1.0.4->ipython->ipython-autotime) (1.15.0)\n",
            "Installing collected packages: ipython-autotime\n",
            "Successfully installed ipython-autotime-0.3.1\n",
            "time: 151 µs (started: 2021-07-05 05:55:57 +00:00)\n"
          ],
          "name": "stdout"
        }
      ]
    },
    {
      "cell_type": "markdown",
      "metadata": {
        "id": "VVB6b8TZHOa1"
      },
      "source": [
        "# **Get Data**"
      ]
    },
    {
      "cell_type": "code",
      "metadata": {
        "colab": {
          "base_uri": "https://localhost:8080/"
        },
        "id": "ycW6KrlEHIe7",
        "outputId": "3cfef758-276b-4d13-daa2-425f38a9b2ad"
      },
      "source": [
        "!wget --no-check-certificate \\\n",
        "  https://dicodingacademy.blob.core.windows.net/picodiploma/ml_pemula_academy/rockpaperscissors.zip \\\n",
        "  -O /tmp/rockpaperscissors.zip"
      ],
      "execution_count": 3,
      "outputs": [
        {
          "output_type": "stream",
          "text": [
            "--2021-07-05 05:55:57--  https://dicodingacademy.blob.core.windows.net/picodiploma/ml_pemula_academy/rockpaperscissors.zip\n",
            "Resolving dicodingacademy.blob.core.windows.net (dicodingacademy.blob.core.windows.net)... 52.239.197.36\n",
            "Connecting to dicodingacademy.blob.core.windows.net (dicodingacademy.blob.core.windows.net)|52.239.197.36|:443... connected.\n",
            "HTTP request sent, awaiting response... 200 OK\n",
            "Length: 322873683 (308M) [application/zip]\n",
            "Saving to: ‘/tmp/rockpaperscissors.zip’\n",
            "\n",
            "/tmp/rockpapersciss 100%[===================>] 307.92M  8.71MB/s    in 55s     \n",
            "\n",
            "2021-07-05 05:56:53 (5.56 MB/s) - ‘/tmp/rockpaperscissors.zip’ saved [322873683/322873683]\n",
            "\n",
            "time: 56.5 s (started: 2021-07-05 05:55:57 +00:00)\n"
          ],
          "name": "stdout"
        }
      ]
    },
    {
      "cell_type": "markdown",
      "metadata": {
        "id": "M3OHFOh9HQpl"
      },
      "source": [
        "# **Extract Data**"
      ]
    },
    {
      "cell_type": "code",
      "metadata": {
        "colab": {
          "base_uri": "https://localhost:8080/"
        },
        "id": "vJ_QKXDzHMX1",
        "outputId": "2b7d649a-8670-4082-e51a-2edab49ab3e8"
      },
      "source": [
        "import zipfile, os\n",
        "\n",
        "local_zip = '/tmp/rockpaperscissors.zip'\n",
        "zip_ref = zipfile.ZipFile(local_zip, 'r')\n",
        "zip_ref.extractall('/tmp')\n",
        "zip_ref.close()"
      ],
      "execution_count": 4,
      "outputs": [
        {
          "output_type": "stream",
          "text": [
            "time: 3.79 s (started: 2021-07-05 05:56:53 +00:00)\n"
          ],
          "name": "stdout"
        }
      ]
    },
    {
      "cell_type": "markdown",
      "metadata": {
        "id": "V1CMsft9Hmfd"
      },
      "source": [
        "# **Check Data**"
      ]
    },
    {
      "cell_type": "code",
      "metadata": {
        "colab": {
          "base_uri": "https://localhost:8080/"
        },
        "id": "26-rWhGGHjb-",
        "outputId": "3ab3b31a-a68f-4f46-fc2d-91533dd46823"
      },
      "source": [
        "print('Number of Rock Images :{}'.format(len(os.listdir('/tmp/rockpaperscissors/rock/'))))\n",
        "print('Number of Paper Images :{}'.format(len(os.listdir('/tmp/rockpaperscissors/paper/'))))\n",
        "print('Number of Scissors Images :{}'.format(len(os.listdir('/tmp/rockpaperscissors/scissors/'))))\n",
        "print('Total Images : {}'.format(\n",
        "    len(os.listdir('/tmp/rockpaperscissors/rock/')) + \n",
        "    len(os.listdir('/tmp/rockpaperscissors/paper/')) + \n",
        "    len(os.listdir('/tmp/rockpaperscissors/scissors/'))\n",
        "    )\n",
        ")"
      ],
      "execution_count": 5,
      "outputs": [
        {
          "output_type": "stream",
          "text": [
            "Number of Rock Images :726\n",
            "Number of Paper Images :712\n",
            "Number of Scissors Images :750\n",
            "Total Images : 2188\n",
            "time: 10 ms (started: 2021-07-05 05:56:57 +00:00)\n"
          ],
          "name": "stdout"
        }
      ]
    },
    {
      "cell_type": "markdown",
      "metadata": {
        "id": "WRtv8YqvH2NE"
      },
      "source": [
        "# **Split Folder**"
      ]
    },
    {
      "cell_type": "code",
      "metadata": {
        "colab": {
          "base_uri": "https://localhost:8080/"
        },
        "id": "EEiSdWHWHoaS",
        "outputId": "fcf0d5cd-4b41-4789-8222-aaaa45b9ba3b"
      },
      "source": [
        "!pip install split_folders\n",
        "\n",
        "import splitfolders\n",
        "\n",
        "splitfolders.ratio('/tmp/rockpaperscissors/rps-cv-images', '/tmp/rockpaperscissors/data', seed=1, ratio=(0.8, 0.2))"
      ],
      "execution_count": 6,
      "outputs": [
        {
          "output_type": "stream",
          "text": [
            "Collecting split_folders\n",
            "  Downloading https://files.pythonhosted.org/packages/b8/5f/3c2b2f7ea5e047c8cdc3bb00ae582c5438fcdbbedcc23b3cc1c2c7aae642/split_folders-0.4.3-py3-none-any.whl\n",
            "Installing collected packages: split-folders\n",
            "Successfully installed split-folders-0.4.3\n"
          ],
          "name": "stdout"
        },
        {
          "output_type": "stream",
          "text": [
            "Copying files: 2188 files [00:00, 4394.80 files/s]"
          ],
          "name": "stderr"
        },
        {
          "output_type": "stream",
          "text": [
            "time: 3.38 s (started: 2021-07-05 05:56:57 +00:00)\n"
          ],
          "name": "stdout"
        },
        {
          "output_type": "stream",
          "text": [
            "\n"
          ],
          "name": "stderr"
        }
      ]
    },
    {
      "cell_type": "code",
      "metadata": {
        "colab": {
          "base_uri": "https://localhost:8080/"
        },
        "id": "20Linz1hH5cW",
        "outputId": "5a65da65-acd1-4e6a-8f71-4896e497f0dd"
      },
      "source": [
        "base_dir = '/tmp/rockpaperscissors/data'\n",
        "train_dir = os.path.join(base_dir, 'train') ## Train Dataset\n",
        "validation_dir = os.path.join(base_dir, 'val') ## Validation Dataset"
      ],
      "execution_count": 7,
      "outputs": [
        {
          "output_type": "stream",
          "text": [
            "time: 2.49 ms (started: 2021-07-05 05:57:01 +00:00)\n"
          ],
          "name": "stdout"
        }
      ]
    },
    {
      "cell_type": "code",
      "metadata": {
        "colab": {
          "base_uri": "https://localhost:8080/"
        },
        "id": "2rpMXKdCH8IJ",
        "outputId": "9a568cc7-113f-42af-961b-cfcca887bca2"
      },
      "source": [
        "os.listdir('/tmp/rockpaperscissors/data/train')"
      ],
      "execution_count": 8,
      "outputs": [
        {
          "output_type": "execute_result",
          "data": {
            "text/plain": [
              "['rock', 'scissors', 'paper']"
            ]
          },
          "metadata": {
            "tags": []
          },
          "execution_count": 8
        },
        {
          "output_type": "stream",
          "text": [
            "time: 4.71 ms (started: 2021-07-05 05:57:01 +00:00)\n"
          ],
          "name": "stdout"
        }
      ]
    },
    {
      "cell_type": "code",
      "metadata": {
        "colab": {
          "base_uri": "https://localhost:8080/"
        },
        "id": "jgBkS9lnH93A",
        "outputId": "28dd4fa0-ca77-475a-8cfa-f55845e1facb"
      },
      "source": [
        "os.listdir('/tmp/rockpaperscissors/data/val')"
      ],
      "execution_count": 9,
      "outputs": [
        {
          "output_type": "execute_result",
          "data": {
            "text/plain": [
              "['rock', 'scissors', 'paper']"
            ]
          },
          "metadata": {
            "tags": []
          },
          "execution_count": 9
        },
        {
          "output_type": "stream",
          "text": [
            "time: 3.8 ms (started: 2021-07-05 05:57:01 +00:00)\n"
          ],
          "name": "stdout"
        }
      ]
    },
    {
      "cell_type": "code",
      "metadata": {
        "colab": {
          "base_uri": "https://localhost:8080/"
        },
        "id": "RzLoflesIC10",
        "outputId": "80f1cc4e-873b-4d69-e6d1-84eb067c042f"
      },
      "source": [
        "train_rock_dir = os.path.join(train_dir, 'rock')\n",
        "train_paper_dir = os.path.join(train_dir, 'paper')\n",
        "train_scissors_dir = os.path.join(train_dir, 'scissors')\n",
        "\n",
        "validation_rock_dir = os.path.join(validation_dir, 'rock')\n",
        "validation_paper_dir = os.path.join(validation_dir, 'paper')\n",
        "validation_scissors_dir = os.path.join(validation_dir, 'scissors')"
      ],
      "execution_count": 10,
      "outputs": [
        {
          "output_type": "stream",
          "text": [
            "time: 3.95 ms (started: 2021-07-05 05:57:01 +00:00)\n"
          ],
          "name": "stdout"
        }
      ]
    },
    {
      "cell_type": "markdown",
      "metadata": {
        "id": "qr_SI5uVIKNM"
      },
      "source": [
        "# **Check Train and Test**"
      ]
    },
    {
      "cell_type": "markdown",
      "metadata": {
        "id": "8IC9sc82INS8"
      },
      "source": [
        "**Train 80%**"
      ]
    },
    {
      "cell_type": "code",
      "metadata": {
        "colab": {
          "base_uri": "https://localhost:8080/"
        },
        "id": "ynp6MtCiIJO2",
        "outputId": "4851f9b0-fcfa-4b88-e26f-1905a7fc5b6d"
      },
      "source": [
        "total_size_train = (\n",
        "    len(os.listdir('/tmp/rockpaperscissors/data/train/rock')) + \n",
        "    len(os.listdir('/tmp/rockpaperscissors/data/train/paper')) +\n",
        "    len(os.listdir('/tmp/rockpaperscissors/data/train/scissors'))\n",
        ")\n",
        "print('Total Training Data is : {}'.format(total_size_train))"
      ],
      "execution_count": 11,
      "outputs": [
        {
          "output_type": "stream",
          "text": [
            "Total Training Data is : 1749\n",
            "time: 5.66 ms (started: 2021-07-05 05:57:01 +00:00)\n"
          ],
          "name": "stdout"
        }
      ]
    },
    {
      "cell_type": "markdown",
      "metadata": {
        "id": "6C2pw5g_ISh8"
      },
      "source": [
        "**Test 20%**"
      ]
    },
    {
      "cell_type": "code",
      "metadata": {
        "colab": {
          "base_uri": "https://localhost:8080/"
        },
        "id": "TWa2cKlZIRXO",
        "outputId": "1e00f080-f290-4d04-cc5f-19f9b61fa163"
      },
      "source": [
        "total_size_validation = (\n",
        "    len(os.listdir('/tmp/rockpaperscissors/data/val/rock')) +\n",
        "    len(os.listdir('/tmp/rockpaperscissors/data/val/paper')) +\n",
        "    len(os.listdir('/tmp/rockpaperscissors/data/val/scissors'))\n",
        ")\n",
        "print('Total Test Data is : {}'.format(total_size_validation))"
      ],
      "execution_count": 12,
      "outputs": [
        {
          "output_type": "stream",
          "text": [
            "Total Test Data is : 439\n",
            "time: 3.69 ms (started: 2021-07-05 05:57:01 +00:00)\n"
          ],
          "name": "stdout"
        }
      ]
    },
    {
      "cell_type": "markdown",
      "metadata": {
        "id": "W9S0I3lvIauc"
      },
      "source": [
        "# **Image Augmentation**"
      ]
    },
    {
      "cell_type": "code",
      "metadata": {
        "colab": {
          "base_uri": "https://localhost:8080/"
        },
        "id": "598BPjnnIXAD",
        "outputId": "d31a8e0b-9141-4e3e-f92f-1eeeadda1d03"
      },
      "source": [
        "from tensorflow.keras.preprocessing.image import ImageDataGenerator\n",
        "\n",
        "train_datagen = ImageDataGenerator(\n",
        "    rescale = 1./255,\n",
        "    rotation_range = 20,\n",
        "    width_shift_range = 0.1,\n",
        "    height_shift_range = 0.2,\n",
        "    horizontal_flip = True,\n",
        "    shear_range = 0.2,\n",
        "    zoom_range = 0.2,\n",
        "    fill_mode = 'nearest'\n",
        ")\n",
        "\n",
        "validation_datagen = ImageDataGenerator(\n",
        "    rescale = 1./255,\n",
        ")\n",
        "\n",
        "train_generator = train_datagen.flow_from_directory(\n",
        "    train_dir,\n",
        "    target_size = (150, 150),\n",
        "    batch_size = 128,\n",
        "    class_mode = 'categorical'\n",
        ")\n",
        "\n",
        "validation_generator = validation_datagen.flow_from_directory(\n",
        "    validation_dir,\n",
        "    target_size = (150, 150),\n",
        "    batch_size = 128,\n",
        "    class_mode = 'categorical'\n",
        ")"
      ],
      "execution_count": 13,
      "outputs": [
        {
          "output_type": "stream",
          "text": [
            "Found 1749 images belonging to 3 classes.\n",
            "Found 439 images belonging to 3 classes.\n",
            "time: 226 ms (started: 2021-07-05 05:57:01 +00:00)\n"
          ],
          "name": "stdout"
        }
      ]
    },
    {
      "cell_type": "markdown",
      "metadata": {
        "id": "sLsDP4VBI7_l"
      },
      "source": [
        "# **Callback**"
      ]
    },
    {
      "cell_type": "code",
      "metadata": {
        "colab": {
          "base_uri": "https://localhost:8080/"
        },
        "id": "vljkUuixI3SM",
        "outputId": "8f90f47a-6f0c-4ea6-873b-15ad6a452ad2"
      },
      "source": [
        "reduce_LR = tf.keras.callbacks.ReduceLROnPlateau(\n",
        "    monitor=\"val_loss\",\n",
        "    factor=0.15,\n",
        "    patience=5,\n",
        "    min_lr=2.e-5\n",
        ")\n",
        "\n",
        "stop_early = tf.keras.callbacks.EarlyStopping(\n",
        "    monitor=\"val_loss\",\n",
        "    min_delta=0,\n",
        "    patience=10,\n",
        "    verbose=0,\n",
        "    mode=\"auto\",\n",
        "    baseline=None,\n",
        "    restore_best_weights=True\n",
        ")"
      ],
      "execution_count": 14,
      "outputs": [
        {
          "output_type": "stream",
          "text": [
            "time: 4.39 ms (started: 2021-07-05 05:57:01 +00:00)\n"
          ],
          "name": "stdout"
        }
      ]
    },
    {
      "cell_type": "markdown",
      "metadata": {
        "id": "ueqr55KGJCHM"
      },
      "source": [
        "# **Construct Model Using CNN**"
      ]
    },
    {
      "cell_type": "code",
      "metadata": {
        "colab": {
          "base_uri": "https://localhost:8080/"
        },
        "id": "EFs-1ICMI6Bz",
        "outputId": "b25bea3b-e83b-40dc-a555-dd8186cc824d"
      },
      "source": [
        "model = tf.keras.models.Sequential([\n",
        "  tf.keras.layers.Conv2D(32, (3,3), activation='relu', input_shape=(150, 150, 3)),\n",
        "  tf.keras.layers.MaxPool2D(2,2),\n",
        "  tf.keras.layers.Conv2D(64, (3,3), activation='relu'),\n",
        "  tf.keras.layers.MaxPool2D(2,2),\n",
        "  tf.keras.layers.Conv2D(128, (3,3), activation='relu'),\n",
        "  tf.keras.layers.MaxPool2D(2,2),\n",
        "  tf.keras.layers.Conv2D(128, (3,3), activation='relu'),\n",
        "  tf.keras.layers.MaxPool2D(2,2),\n",
        "  tf.keras.layers.Flatten(),\n",
        "  tf.keras.layers.Dense(512, activation='relu'),\n",
        "  tf.keras.layers.Dense(3, activation='softmax')\n",
        "])"
      ],
      "execution_count": 15,
      "outputs": [
        {
          "output_type": "stream",
          "text": [
            "time: 5.31 s (started: 2021-07-05 05:57:01 +00:00)\n"
          ],
          "name": "stdout"
        }
      ]
    },
    {
      "cell_type": "code",
      "metadata": {
        "colab": {
          "base_uri": "https://localhost:8080/"
        },
        "id": "lhacPQgLJRi8",
        "outputId": "bb023de8-8e11-4d17-b6f6-73137d787bc4"
      },
      "source": [
        "model.summary()"
      ],
      "execution_count": 16,
      "outputs": [
        {
          "output_type": "stream",
          "text": [
            "Model: \"sequential\"\n",
            "_________________________________________________________________\n",
            "Layer (type)                 Output Shape              Param #   \n",
            "=================================================================\n",
            "conv2d (Conv2D)              (None, 148, 148, 32)      896       \n",
            "_________________________________________________________________\n",
            "max_pooling2d (MaxPooling2D) (None, 74, 74, 32)        0         \n",
            "_________________________________________________________________\n",
            "conv2d_1 (Conv2D)            (None, 72, 72, 64)        18496     \n",
            "_________________________________________________________________\n",
            "max_pooling2d_1 (MaxPooling2 (None, 36, 36, 64)        0         \n",
            "_________________________________________________________________\n",
            "conv2d_2 (Conv2D)            (None, 34, 34, 128)       73856     \n",
            "_________________________________________________________________\n",
            "max_pooling2d_2 (MaxPooling2 (None, 17, 17, 128)       0         \n",
            "_________________________________________________________________\n",
            "conv2d_3 (Conv2D)            (None, 15, 15, 128)       147584    \n",
            "_________________________________________________________________\n",
            "max_pooling2d_3 (MaxPooling2 (None, 7, 7, 128)         0         \n",
            "_________________________________________________________________\n",
            "flatten (Flatten)            (None, 6272)              0         \n",
            "_________________________________________________________________\n",
            "dense (Dense)                (None, 512)               3211776   \n",
            "_________________________________________________________________\n",
            "dense_1 (Dense)              (None, 3)                 1539      \n",
            "=================================================================\n",
            "Total params: 3,454,147\n",
            "Trainable params: 3,454,147\n",
            "Non-trainable params: 0\n",
            "_________________________________________________________________\n",
            "time: 9.51 ms (started: 2021-07-05 05:57:06 +00:00)\n"
          ],
          "name": "stdout"
        }
      ]
    },
    {
      "cell_type": "markdown",
      "metadata": {
        "id": "OJg6RRKAJX-U"
      },
      "source": [
        "# **Run Model**"
      ]
    },
    {
      "cell_type": "code",
      "metadata": {
        "colab": {
          "base_uri": "https://localhost:8080/"
        },
        "id": "QMSoa1fgJSaT",
        "outputId": "44402a95-7920-4d10-8a52-05dddcdf9160"
      },
      "source": [
        "model.compile(\n",
        "    loss = 'categorical_crossentropy',\n",
        "    optimizer = 'Adam',\n",
        "    metrics = ['accuracy']\n",
        ")"
      ],
      "execution_count": 17,
      "outputs": [
        {
          "output_type": "stream",
          "text": [
            "time: 17.2 ms (started: 2021-07-05 05:57:06 +00:00)\n"
          ],
          "name": "stdout"
        }
      ]
    },
    {
      "cell_type": "code",
      "metadata": {
        "colab": {
          "base_uri": "https://localhost:8080/"
        },
        "id": "KUKTLMexJev9",
        "outputId": "781f2b40-f5b6-4388-b980-9494b7c39388"
      },
      "source": [
        "history = model.fit(\n",
        "    train_generator,\n",
        "    epochs = 100,\n",
        "    callbacks = [reduce_LR, stop_early],\n",
        "    validation_data = validation_generator,\n",
        "    verbose = 1\n",
        ")"
      ],
      "execution_count": 18,
      "outputs": [
        {
          "output_type": "stream",
          "text": [
            "Epoch 1/100\n",
            "14/14 [==============================] - 45s 886ms/step - loss: 1.1271 - accuracy: 0.4122 - val_loss: 1.0741 - val_accuracy: 0.6469\n",
            "Epoch 2/100\n",
            "14/14 [==============================] - 12s 833ms/step - loss: 0.9832 - accuracy: 0.5346 - val_loss: 0.6095 - val_accuracy: 0.8861\n",
            "Epoch 3/100\n",
            "14/14 [==============================] - 12s 861ms/step - loss: 0.6309 - accuracy: 0.7587 - val_loss: 0.3110 - val_accuracy: 0.9226\n",
            "Epoch 4/100\n",
            "14/14 [==============================] - 12s 825ms/step - loss: 0.4319 - accuracy: 0.8353 - val_loss: 0.1545 - val_accuracy: 0.9704\n",
            "Epoch 5/100\n",
            "14/14 [==============================] - 12s 827ms/step - loss: 0.3168 - accuracy: 0.8822 - val_loss: 0.1165 - val_accuracy: 0.9613\n",
            "Epoch 6/100\n",
            "14/14 [==============================] - 12s 838ms/step - loss: 0.2839 - accuracy: 0.9034 - val_loss: 0.0910 - val_accuracy: 0.9704\n",
            "Epoch 7/100\n",
            "14/14 [==============================] - 12s 823ms/step - loss: 0.3165 - accuracy: 0.8811 - val_loss: 0.1048 - val_accuracy: 0.9727\n",
            "Epoch 8/100\n",
            "14/14 [==============================] - 12s 842ms/step - loss: 0.2606 - accuracy: 0.9028 - val_loss: 0.1018 - val_accuracy: 0.9727\n",
            "Epoch 9/100\n",
            "14/14 [==============================] - 12s 827ms/step - loss: 0.2131 - accuracy: 0.9217 - val_loss: 0.0478 - val_accuracy: 0.9863\n",
            "Epoch 10/100\n",
            "14/14 [==============================] - 12s 832ms/step - loss: 0.1877 - accuracy: 0.9388 - val_loss: 0.0431 - val_accuracy: 0.9909\n",
            "Epoch 11/100\n",
            "14/14 [==============================] - 12s 838ms/step - loss: 0.1926 - accuracy: 0.9388 - val_loss: 0.0355 - val_accuracy: 0.9863\n",
            "Epoch 12/100\n",
            "14/14 [==============================] - 12s 820ms/step - loss: 0.1329 - accuracy: 0.9571 - val_loss: 0.0532 - val_accuracy: 0.9795\n",
            "Epoch 13/100\n",
            "14/14 [==============================] - 11s 814ms/step - loss: 0.1186 - accuracy: 0.9617 - val_loss: 0.0220 - val_accuracy: 0.9977\n",
            "Epoch 14/100\n",
            "14/14 [==============================] - 12s 824ms/step - loss: 0.1164 - accuracy: 0.9583 - val_loss: 0.0970 - val_accuracy: 0.9613\n",
            "Epoch 15/100\n",
            "14/14 [==============================] - 11s 814ms/step - loss: 0.1246 - accuracy: 0.9583 - val_loss: 0.0336 - val_accuracy: 0.9909\n",
            "Epoch 16/100\n",
            "14/14 [==============================] - 12s 825ms/step - loss: 0.0968 - accuracy: 0.9726 - val_loss: 0.0177 - val_accuracy: 0.9954\n",
            "Epoch 17/100\n",
            "14/14 [==============================] - 12s 838ms/step - loss: 0.0780 - accuracy: 0.9754 - val_loss: 0.0153 - val_accuracy: 0.9977\n",
            "Epoch 18/100\n",
            "14/14 [==============================] - 12s 849ms/step - loss: 0.0696 - accuracy: 0.9783 - val_loss: 0.0194 - val_accuracy: 0.9954\n",
            "Epoch 19/100\n",
            "14/14 [==============================] - 11s 839ms/step - loss: 0.0873 - accuracy: 0.9686 - val_loss: 0.0102 - val_accuracy: 1.0000\n",
            "Epoch 20/100\n",
            "14/14 [==============================] - 11s 815ms/step - loss: 0.0745 - accuracy: 0.9754 - val_loss: 0.0111 - val_accuracy: 0.9977\n",
            "Epoch 21/100\n",
            "14/14 [==============================] - 11s 807ms/step - loss: 0.0546 - accuracy: 0.9817 - val_loss: 0.0094 - val_accuracy: 0.9954\n",
            "Epoch 22/100\n",
            "14/14 [==============================] - 11s 817ms/step - loss: 0.0663 - accuracy: 0.9806 - val_loss: 0.0087 - val_accuracy: 0.9977\n",
            "Epoch 23/100\n",
            "14/14 [==============================] - 11s 813ms/step - loss: 0.0512 - accuracy: 0.9851 - val_loss: 0.0220 - val_accuracy: 0.9932\n",
            "Epoch 24/100\n",
            "14/14 [==============================] - 11s 814ms/step - loss: 0.0593 - accuracy: 0.9800 - val_loss: 0.0367 - val_accuracy: 0.9909\n",
            "Epoch 25/100\n",
            "14/14 [==============================] - 12s 843ms/step - loss: 0.0753 - accuracy: 0.9748 - val_loss: 0.0110 - val_accuracy: 0.9977\n",
            "Epoch 26/100\n",
            "14/14 [==============================] - 11s 809ms/step - loss: 0.0566 - accuracy: 0.9754 - val_loss: 0.0097 - val_accuracy: 0.9977\n",
            "Epoch 27/100\n",
            "14/14 [==============================] - 11s 811ms/step - loss: 0.0428 - accuracy: 0.9874 - val_loss: 0.0080 - val_accuracy: 0.9977\n",
            "Epoch 28/100\n",
            "14/14 [==============================] - 11s 820ms/step - loss: 0.0332 - accuracy: 0.9897 - val_loss: 0.0064 - val_accuracy: 1.0000\n",
            "Epoch 29/100\n",
            "14/14 [==============================] - 11s 809ms/step - loss: 0.0363 - accuracy: 0.9891 - val_loss: 0.0082 - val_accuracy: 0.9954\n",
            "Epoch 30/100\n",
            "14/14 [==============================] - 11s 811ms/step - loss: 0.0370 - accuracy: 0.9903 - val_loss: 0.0106 - val_accuracy: 0.9954\n",
            "Epoch 31/100\n",
            "14/14 [==============================] - 11s 807ms/step - loss: 0.0247 - accuracy: 0.9926 - val_loss: 0.0132 - val_accuracy: 0.9954\n",
            "Epoch 32/100\n",
            "14/14 [==============================] - 11s 816ms/step - loss: 0.0289 - accuracy: 0.9903 - val_loss: 0.0057 - val_accuracy: 0.9977\n",
            "Epoch 33/100\n",
            "14/14 [==============================] - 11s 812ms/step - loss: 0.0257 - accuracy: 0.9886 - val_loss: 0.0085 - val_accuracy: 0.9977\n",
            "Epoch 34/100\n",
            "14/14 [==============================] - 11s 814ms/step - loss: 0.0446 - accuracy: 0.9851 - val_loss: 0.0180 - val_accuracy: 0.9932\n",
            "Epoch 35/100\n",
            "14/14 [==============================] - 12s 820ms/step - loss: 0.0276 - accuracy: 0.9926 - val_loss: 0.0079 - val_accuracy: 0.9977\n",
            "Epoch 36/100\n",
            "14/14 [==============================] - 11s 813ms/step - loss: 0.0205 - accuracy: 0.9926 - val_loss: 0.0063 - val_accuracy: 0.9977\n",
            "Epoch 37/100\n",
            "14/14 [==============================] - 12s 818ms/step - loss: 0.0234 - accuracy: 0.9920 - val_loss: 0.0020 - val_accuracy: 1.0000\n",
            "Epoch 38/100\n",
            "14/14 [==============================] - 11s 806ms/step - loss: 0.0303 - accuracy: 0.9920 - val_loss: 0.0118 - val_accuracy: 0.9909\n",
            "Epoch 39/100\n",
            "14/14 [==============================] - 11s 810ms/step - loss: 0.0302 - accuracy: 0.9903 - val_loss: 0.0031 - val_accuracy: 1.0000\n",
            "Epoch 40/100\n",
            "14/14 [==============================] - 11s 819ms/step - loss: 0.0906 - accuracy: 0.9657 - val_loss: 0.0156 - val_accuracy: 0.9954\n",
            "Epoch 41/100\n",
            "14/14 [==============================] - 11s 805ms/step - loss: 0.0834 - accuracy: 0.9691 - val_loss: 0.0729 - val_accuracy: 0.9704\n",
            "Epoch 42/100\n",
            "14/14 [==============================] - 11s 814ms/step - loss: 0.1061 - accuracy: 0.9651 - val_loss: 0.0117 - val_accuracy: 0.9977\n",
            "Epoch 43/100\n",
            "14/14 [==============================] - 11s 818ms/step - loss: 0.0515 - accuracy: 0.9880 - val_loss: 0.0102 - val_accuracy: 0.9977\n",
            "Epoch 44/100\n",
            "14/14 [==============================] - 11s 803ms/step - loss: 0.0315 - accuracy: 0.9926 - val_loss: 0.0049 - val_accuracy: 1.0000\n",
            "Epoch 45/100\n",
            "14/14 [==============================] - 11s 829ms/step - loss: 0.0244 - accuracy: 0.9949 - val_loss: 0.0045 - val_accuracy: 1.0000\n",
            "Epoch 46/100\n",
            "14/14 [==============================] - 11s 814ms/step - loss: 0.0245 - accuracy: 0.9920 - val_loss: 0.0034 - val_accuracy: 1.0000\n",
            "Epoch 47/100\n",
            "14/14 [==============================] - 11s 812ms/step - loss: 0.0247 - accuracy: 0.9914 - val_loss: 0.0046 - val_accuracy: 1.0000\n",
            "time: 9min 35s (started: 2021-07-05 05:57:06 +00:00)\n"
          ],
          "name": "stdout"
        }
      ]
    },
    {
      "cell_type": "markdown",
      "metadata": {
        "id": "ts3zNthCJmW0"
      },
      "source": [
        "# **Plot Model History**"
      ]
    },
    {
      "cell_type": "code",
      "metadata": {
        "colab": {
          "base_uri": "https://localhost:8080/"
        },
        "id": "sKabuUvBJnmO",
        "outputId": "c5c238b5-f7e1-4e9d-b22c-83f6a479d76b"
      },
      "source": [
        "import matplotlib.pyplot as plt\n",
        "\n",
        "def plot_accuracy(history):\n",
        "  plt.figure(figsize=(18,5))\n",
        "  acc = history.history['accuracy']\n",
        "  val_acc = history.history['val_accuracy']\n",
        "  epochs = range(len(acc))\n",
        "  plot_acc = plt.plot(epochs, acc, 'red', label='Training Accuracy')\n",
        "  plot_val_acc = plt.plot(epochs, val_acc, 'blue', label='Validation Accuracy')\n",
        "  plt.xlabel('Epoch', fontsize=15)\n",
        "  plt.ylabel('Accuracy', fontsize=15)\n",
        "  plt.title('Training and Validation Accuracy', fontsize=25)\n",
        "  plt.legend(bbox_to_anchor=(1,1), loc='best')\n",
        "  plt.grid()\n",
        "  plt.show()\n",
        "\n",
        "def plot_loss(history):\n",
        "  plt.figure(figsize=(18,5))\n",
        "  loss = history.history['loss']\n",
        "  val_loss = history.history['val_loss']\n",
        "  epochs = range(len(loss))\n",
        "  plot_loss = plt.plot(epochs, loss, 'red', label='Training Loss')\n",
        "  plot_val_loss = plt.plot(epochs, val_loss, 'blue', label='Validation Loss')\n",
        "  plt.xlabel('Epoch', fontsize=15)\n",
        "  plt.ylabel('Loss', fontsize=15)\n",
        "  plt.title('Training and Validation Loss', fontsize=25)\n",
        "  plt.legend(bbox_to_anchor=(1,1), loc='best')\n",
        "  plt.grid()\n",
        "  plt.show()"
      ],
      "execution_count": 19,
      "outputs": [
        {
          "output_type": "stream",
          "text": [
            "time: 9.06 s (started: 2021-07-05 06:06:42 +00:00)\n"
          ],
          "name": "stdout"
        }
      ]
    },
    {
      "cell_type": "code",
      "metadata": {
        "colab": {
          "base_uri": "https://localhost:8080/",
          "height": 381
        },
        "id": "GPOyOGj1JoIt",
        "outputId": "20f68f61-7bec-4c9c-d6e0-312e0590b393"
      },
      "source": [
        "plot_accuracy(history)"
      ],
      "execution_count": 20,
      "outputs": [
        {
          "output_type": "display_data",
          "data": {
            "image/png": "[encoded data removed]",
            "text/plain": [
              "<Figure size 1296x360 with 1 Axes>"
            ]
          },
          "metadata": {
            "tags": [],
            "needs_background": "light"
          }
        },
        {
          "output_type": "stream",
          "text": [
            "time: 194 ms (started: 2021-07-05 06:06:51 +00:00)\n"
          ],
          "name": "stdout"
        }
      ]
    },
    {
      "cell_type": "code",
      "metadata": {
        "colab": {
          "base_uri": "https://localhost:8080/",
          "height": 381
        },
        "id": "1pZ4V9ayJrEc",
        "outputId": "11b9693a-e7c8-4c3e-e56c-e5d14d99fe55"
      },
      "source": [
        "plot_loss(history)"
      ],
      "execution_count": 21,
      "outputs": [
        {
          "output_type": "display_data",
          "data": {
            "image/png": "[encoded data removed]",
            "text/plain": [
              "<Figure size 1296x360 with 1 Axes>"
            ]
          },
          "metadata": {
            "tags": [],
            "needs_background": "light"
          }
        },
        {
          "output_type": "stream",
          "text": [
            "time: 171 ms (started: 2021-07-05 06:06:51 +00:00)\n"
          ],
          "name": "stdout"
        }
      ]
    },
    {
      "cell_type": "markdown",
      "metadata": {
        "id": "7zfeKrLhNMss"
      },
      "source": [
        "# **Save Model to TFlite**"
      ]
    },
    {
      "cell_type": "code",
      "metadata": {
        "colab": {
          "base_uri": "https://localhost:8080/"
        },
        "id": "Wrw2F_VgNK_W",
        "outputId": "40535175-4fb8-45c7-90fa-ddf8e483b0a2"
      },
      "source": [
        "converter = tf.lite.TFLiteConverter.from_keras_model(model)\n",
        "tflite_model = converter.convert()\n",
        "\n",
        "with tf.io.gfile.GFile('model.tflite', 'wb') as f:\n",
        "  f.write(tflite_model)"
      ],
      "execution_count": 22,
      "outputs": [
        {
          "output_type": "stream",
          "text": [
            "INFO:tensorflow:Assets written to: /tmp/tmptzo6caol/assets\n",
            "time: 1.81 s (started: 2021-07-05 06:06:52 +00:00)\n"
          ],
          "name": "stdout"
        }
      ]
    }
  ]
}